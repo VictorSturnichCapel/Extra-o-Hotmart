{
 "cells": [
  {
   "cell_type": "code",
   "execution_count": 2,
   "metadata": {},
   "outputs": [],
   "source": [
    "#importação pacotes\n",
    "import pandas as pd\n",
    "from selenium import webdriver\n",
    "from webdriver_manager.chrome import ChromeDriverManager\n",
    "from selenium.webdriver.common.keys import Keys\n",
    "from selenium.webdriver.common.by import By\n",
    "import time"
   ]
  },
  {
   "cell_type": "code",
   "execution_count": 2,
   "metadata": {},
   "outputs": [
    {
     "name": "stderr",
     "output_type": "stream",
     "text": [
      "c:\\Users\\victo\\AppData\\Local\\Programs\\Python\\Python37-32\\lib\\site-packages\\ipykernel_launcher.py:5: DeprecationWarning: executable_path has been deprecated, please pass in a Service object\n",
      "  \"\"\"\n"
     ]
    },
    {
     "ename": "NoSuchElementException",
     "evalue": "Message: no such element: Unable to locate element: {\"method\":\"xpath\",\"selector\":\"/html/body/div[1]/main/div/div[2]/div/div[2]/div/div/div/div/div[1]/div[2]/a/div[2]/div[2]/div/h3\"}\n  (Session info: chrome=108.0.5359.125)\nStacktrace:\nBacktrace:\n\t(No symbol) [0x0081F243]\n\t(No symbol) [0x007A7FD1]\n\t(No symbol) [0x0069D04D]\n\t(No symbol) [0x006CC0B0]\n\t(No symbol) [0x006CC22B]\n\t(No symbol) [0x006FE612]\n\t(No symbol) [0x006E85D4]\n\t(No symbol) [0x006FC9EB]\n\t(No symbol) [0x006E8386]\n\t(No symbol) [0x006C163C]\n\t(No symbol) [0x006C269D]\n\tGetHandleVerifier [0x00AB9A22+2655074]\n\tGetHandleVerifier [0x00AACA24+2601828]\n\tGetHandleVerifier [0x008C8C0A+619850]\n\tGetHandleVerifier [0x008C7830+614768]\n\t(No symbol) [0x007B05FC]\n\t(No symbol) [0x007B5968]\n\t(No symbol) [0x007B5A55]\n\t(No symbol) [0x007C051B]\n\tBaseThreadInitThunk [0x76A87D69+25]\n\tRtlInitializeExceptionChain [0x77C1BB9B+107]\n\tRtlClearBits [0x77C1BB1F+191]\n",
     "output_type": "error",
     "traceback": [
      "\u001b[1;31m---------------------------------------------------------------------------\u001b[0m",
      "\u001b[1;31mNoSuchElementException\u001b[0m                    Traceback (most recent call last)",
      "\u001b[1;32m~\\AppData\\Local\\Temp\\ipykernel_6100\\1538881605.py\u001b[0m in \u001b[0;36m<module>\u001b[1;34m\u001b[0m\n\u001b[0;32m     21\u001b[0m         \u001b[0mdivnu\u001b[0m \u001b[1;33m=\u001b[0m \u001b[0mstr\u001b[0m\u001b[1;33m(\u001b[0m\u001b[0mnumero\u001b[0m\u001b[1;33m+\u001b[0m\u001b[1;36m1\u001b[0m\u001b[1;33m)\u001b[0m\u001b[1;33m\u001b[0m\u001b[1;33m\u001b[0m\u001b[0m\n\u001b[0;32m     22\u001b[0m         \u001b[0mnome\u001b[0m \u001b[1;33m=\u001b[0m \u001b[0mdriver\u001b[0m\u001b[1;33m.\u001b[0m\u001b[0mfind_element\u001b[0m\u001b[1;33m(\u001b[0m\u001b[0mBy\u001b[0m\u001b[1;33m.\u001b[0m\u001b[0mXPATH\u001b[0m\u001b[1;33m,\u001b[0m \u001b[1;34mf'/html/body/div[1]/main/div/div[2]/div/div[2]/div/div/div/div/div[1]/div[{divnu}]/a/div[2]/div[1]/div/div[1]'\u001b[0m\u001b[1;33m)\u001b[0m\u001b[1;33m.\u001b[0m\u001b[0mtext\u001b[0m\u001b[1;33m\u001b[0m\u001b[1;33m\u001b[0m\u001b[0m\n\u001b[1;32m---> 23\u001b[1;33m         \u001b[0mpreco\u001b[0m \u001b[1;33m=\u001b[0m \u001b[0mdriver\u001b[0m\u001b[1;33m.\u001b[0m\u001b[0mfind_element\u001b[0m\u001b[1;33m(\u001b[0m\u001b[0mBy\u001b[0m\u001b[1;33m.\u001b[0m\u001b[0mXPATH\u001b[0m\u001b[1;33m,\u001b[0m \u001b[1;34mf'/html/body/div[1]/main/div/div[2]/div/div[2]/div/div/div/div/div[1]/div[{divnu}]/a/div[2]/div[2]/div/h3'\u001b[0m\u001b[1;33m)\u001b[0m\u001b[1;33m.\u001b[0m\u001b[0mtext\u001b[0m\u001b[1;33m\u001b[0m\u001b[1;33m\u001b[0m\u001b[0m\n\u001b[0m\u001b[0;32m     24\u001b[0m         \u001b[0mautor\u001b[0m \u001b[1;33m=\u001b[0m \u001b[0mdriver\u001b[0m\u001b[1;33m.\u001b[0m\u001b[0mfind_element\u001b[0m\u001b[1;33m(\u001b[0m\u001b[0mBy\u001b[0m\u001b[1;33m.\u001b[0m\u001b[0mXPATH\u001b[0m\u001b[1;33m,\u001b[0m \u001b[1;34mf'/html/body/div[1]/main/div/div[2]/div/div[2]/div/div/div/div/div[1]/div[{divnu}]/a/div[2]/div[1]/div/div[2]'\u001b[0m\u001b[1;33m)\u001b[0m\u001b[1;33m.\u001b[0m\u001b[0mtext\u001b[0m\u001b[1;33m\u001b[0m\u001b[1;33m\u001b[0m\u001b[0m\n\u001b[0;32m     25\u001b[0m         \u001b[1;31m# tentar buscar a avaliação do curso, pois alguns não possuem esse atributo\u001b[0m\u001b[1;33m\u001b[0m\u001b[1;33m\u001b[0m\u001b[1;33m\u001b[0m\u001b[0m\n",
      "\u001b[1;32mc:\\Users\\victo\\AppData\\Local\\Programs\\Python\\Python37-32\\lib\\site-packages\\selenium\\webdriver\\remote\\webdriver.py\u001b[0m in \u001b[0;36mfind_element\u001b[1;34m(self, by, value)\u001b[0m\n\u001b[0;32m    855\u001b[0m         return self.execute(Command.FIND_ELEMENT, {\n\u001b[0;32m    856\u001b[0m             \u001b[1;34m'using'\u001b[0m\u001b[1;33m:\u001b[0m \u001b[0mby\u001b[0m\u001b[1;33m,\u001b[0m\u001b[1;33m\u001b[0m\u001b[1;33m\u001b[0m\u001b[0m\n\u001b[1;32m--> 857\u001b[1;33m             'value': value})['value']\n\u001b[0m\u001b[0;32m    858\u001b[0m \u001b[1;33m\u001b[0m\u001b[0m\n\u001b[0;32m    859\u001b[0m     \u001b[1;32mdef\u001b[0m \u001b[0mfind_elements\u001b[0m\u001b[1;33m(\u001b[0m\u001b[0mself\u001b[0m\u001b[1;33m,\u001b[0m \u001b[0mby\u001b[0m\u001b[1;33m=\u001b[0m\u001b[0mBy\u001b[0m\u001b[1;33m.\u001b[0m\u001b[0mID\u001b[0m\u001b[1;33m,\u001b[0m \u001b[0mvalue\u001b[0m\u001b[1;33m=\u001b[0m\u001b[1;32mNone\u001b[0m\u001b[1;33m)\u001b[0m \u001b[1;33m->\u001b[0m \u001b[0mList\u001b[0m\u001b[1;33m[\u001b[0m\u001b[0mWebElement\u001b[0m\u001b[1;33m]\u001b[0m\u001b[1;33m:\u001b[0m\u001b[1;33m\u001b[0m\u001b[1;33m\u001b[0m\u001b[0m\n",
      "\u001b[1;32mc:\\Users\\victo\\AppData\\Local\\Programs\\Python\\Python37-32\\lib\\site-packages\\selenium\\webdriver\\remote\\webdriver.py\u001b[0m in \u001b[0;36mexecute\u001b[1;34m(self, driver_command, params)\u001b[0m\n\u001b[0;32m    426\u001b[0m         \u001b[0mresponse\u001b[0m \u001b[1;33m=\u001b[0m \u001b[0mself\u001b[0m\u001b[1;33m.\u001b[0m\u001b[0mcommand_executor\u001b[0m\u001b[1;33m.\u001b[0m\u001b[0mexecute\u001b[0m\u001b[1;33m(\u001b[0m\u001b[0mdriver_command\u001b[0m\u001b[1;33m,\u001b[0m \u001b[0mparams\u001b[0m\u001b[1;33m)\u001b[0m\u001b[1;33m\u001b[0m\u001b[1;33m\u001b[0m\u001b[0m\n\u001b[0;32m    427\u001b[0m         \u001b[1;32mif\u001b[0m \u001b[0mresponse\u001b[0m\u001b[1;33m:\u001b[0m\u001b[1;33m\u001b[0m\u001b[1;33m\u001b[0m\u001b[0m\n\u001b[1;32m--> 428\u001b[1;33m             \u001b[0mself\u001b[0m\u001b[1;33m.\u001b[0m\u001b[0merror_handler\u001b[0m\u001b[1;33m.\u001b[0m\u001b[0mcheck_response\u001b[0m\u001b[1;33m(\u001b[0m\u001b[0mresponse\u001b[0m\u001b[1;33m)\u001b[0m\u001b[1;33m\u001b[0m\u001b[1;33m\u001b[0m\u001b[0m\n\u001b[0m\u001b[0;32m    429\u001b[0m             response['value'] = self._unwrap_value(\n\u001b[0;32m    430\u001b[0m                 response.get('value', None))\n",
      "\u001b[1;32mc:\\Users\\victo\\AppData\\Local\\Programs\\Python\\Python37-32\\lib\\site-packages\\selenium\\webdriver\\remote\\errorhandler.py\u001b[0m in \u001b[0;36mcheck_response\u001b[1;34m(self, response)\u001b[0m\n\u001b[0;32m    241\u001b[0m                 \u001b[0malert_text\u001b[0m \u001b[1;33m=\u001b[0m \u001b[0mvalue\u001b[0m\u001b[1;33m[\u001b[0m\u001b[1;34m'alert'\u001b[0m\u001b[1;33m]\u001b[0m\u001b[1;33m.\u001b[0m\u001b[0mget\u001b[0m\u001b[1;33m(\u001b[0m\u001b[1;34m'text'\u001b[0m\u001b[1;33m)\u001b[0m\u001b[1;33m\u001b[0m\u001b[1;33m\u001b[0m\u001b[0m\n\u001b[0;32m    242\u001b[0m             \u001b[1;32mraise\u001b[0m \u001b[0mexception_class\u001b[0m\u001b[1;33m(\u001b[0m\u001b[0mmessage\u001b[0m\u001b[1;33m,\u001b[0m \u001b[0mscreen\u001b[0m\u001b[1;33m,\u001b[0m \u001b[0mstacktrace\u001b[0m\u001b[1;33m,\u001b[0m \u001b[0malert_text\u001b[0m\u001b[1;33m)\u001b[0m  \u001b[1;31m# type: ignore[call-arg]  # mypy is not smart enough here\u001b[0m\u001b[1;33m\u001b[0m\u001b[1;33m\u001b[0m\u001b[0m\n\u001b[1;32m--> 243\u001b[1;33m         \u001b[1;32mraise\u001b[0m \u001b[0mexception_class\u001b[0m\u001b[1;33m(\u001b[0m\u001b[0mmessage\u001b[0m\u001b[1;33m,\u001b[0m \u001b[0mscreen\u001b[0m\u001b[1;33m,\u001b[0m \u001b[0mstacktrace\u001b[0m\u001b[1;33m)\u001b[0m\u001b[1;33m\u001b[0m\u001b[1;33m\u001b[0m\u001b[0m\n\u001b[0m",
      "\u001b[1;31mNoSuchElementException\u001b[0m: Message: no such element: Unable to locate element: {\"method\":\"xpath\",\"selector\":\"/html/body/div[1]/main/div/div[2]/div/div[2]/div/div/div/div/div[1]/div[2]/a/div[2]/div[2]/div/h3\"}\n  (Session info: chrome=108.0.5359.125)\nStacktrace:\nBacktrace:\n\t(No symbol) [0x0081F243]\n\t(No symbol) [0x007A7FD1]\n\t(No symbol) [0x0069D04D]\n\t(No symbol) [0x006CC0B0]\n\t(No symbol) [0x006CC22B]\n\t(No symbol) [0x006FE612]\n\t(No symbol) [0x006E85D4]\n\t(No symbol) [0x006FC9EB]\n\t(No symbol) [0x006E8386]\n\t(No symbol) [0x006C163C]\n\t(No symbol) [0x006C269D]\n\tGetHandleVerifier [0x00AB9A22+2655074]\n\tGetHandleVerifier [0x00AACA24+2601828]\n\tGetHandleVerifier [0x008C8C0A+619850]\n\tGetHandleVerifier [0x008C7830+614768]\n\t(No symbol) [0x007B05FC]\n\t(No symbol) [0x007B5968]\n\t(No symbol) [0x007B5A55]\n\t(No symbol) [0x007C051B]\n\tBaseThreadInitThunk [0x76A87D69+25]\n\tRtlInitializeExceptionChain [0x77C1BB9B+107]\n\tRtlClearBits [0x77C1BB1F+191]\n"
     ]
    }
   ],
   "source": [
    "# criar dataframe para receber\n",
    "df_hotmart = pd.DataFrame(columns=['nome_curso', 'preco', 'autor', 'avaliação', 'qtd_avaliação', 'categoria'])\n",
    "\n",
    "#instalar driver atual e iniciar\n",
    "driver = webdriver.Chrome(ChromeDriverManager().install())\n",
    "\n",
    "# passar por cada link e fazer a extração\n",
    "for categoria in ['enem', 'pr%C3%A9-vestibular', 'vestibular']:\n",
    "    \n",
    "    # gerar o link\n",
    "    link = 'https://hotmart.com/en/marketplace/products?initialSelectedCategory=&q=' + categoria\n",
    "    \n",
    "    # passar para o navegador o link de acesso\n",
    "    driver.get(link)\n",
    "    time.sleep(5)\n",
    "    for i in range(1,20):\n",
    "        time.sleep(1)\n",
    "        driver.find_element(By.CLASS_NAME,\"load-more\").click();\n",
    "    for numero in range(1,457):\n",
    "        # saber a div para a busca \n",
    "        divnu = str(numero+1)\n",
    "        nome = driver.find_element(By.XPATH, f'/html/body/div[1]/main/div/div[2]/div/div[2]/div/div/div/div/div[1]/div[{divnu}]/a/div[2]/div[1]/div/div[1]').text\n",
    "        preco = driver.find_element(By.XPATH, f'/html/body/div[1]/main/div/div[2]/div/div[2]/div/div/div/div/div[1]/div[{divnu}]/a/div[2]/div[2]/div/h3').text\n",
    "        autor = driver.find_element(By.XPATH, f'/html/body/div[1]/main/div/div[2]/div/div[2]/div/div/div/div/div[1]/div[{divnu}]/a/div[2]/div[1]/div/div[2]').text\n",
    "        # tentar buscar a avaliação do curso, pois alguns não possuem esse atributo\n",
    "        try:\n",
    "            avaliação = driver.find_element(By.XPATH, f'/html/body/div[1]/main/div/div[2]/div/div[2]/div/div/div/div/div[1]/div[{divnu}]/a/div[2]/div[1]/div/div[3]/div/span[1]').text\n",
    "            qtd_avaliação = driver.find_element(By.XPATH, f'/html/body/div[1]/main/div/div[2]/div/div[2]/div/div/div/div/div[1]/div[{divnu}]/a/div[2]/div[1]/div/div[3]/div/span[2]').text\n",
    "            qtd_avaliação = qtd_avaliação.replace('(', '')\n",
    "            qtd_avaliação = qtd_avaliação.replace(')', '')\n",
    "\n",
    "        except: \n",
    "            avaliação = ''\n",
    "            qtd_avaliação = ''  \n",
    "        df_hotmart.loc[len(df_hotmart)] = (nome,preco,autor,avaliação,qtd_avaliação,categoria)\n",
    "\n",
    "# fechar o navegador\n",
    "driver.quit()"
   ]
  },
  {
   "cell_type": "code",
   "execution_count": null,
   "metadata": {},
   "outputs": [],
   "source": [
    "df_hotmart['categoria'].replace(['pr%C3%A9-vestibular'],'pré-vestibular', inplace=True)"
   ]
  },
  {
   "cell_type": "code",
   "execution_count": 25,
   "metadata": {},
   "outputs": [],
   "source": [
    "# exportar para o excel\n",
    "df_hotmart.to_excel('df_hotmart.xlsx', index=False)"
   ]
  },
  {
   "cell_type": "code",
   "execution_count": 16,
   "metadata": {},
   "outputs": [],
   "source": [
    "# ler df\n",
    "df_hotmart = pd.read_excel('df_hotmart.xlsx')"
   ]
  },
  {
   "cell_type": "code",
   "execution_count": 19,
   "metadata": {},
   "outputs": [],
   "source": [
    "# achar linhas para limpar\n",
    "lista_deletar = []\n",
    "for i in df_hotmart.index:\n",
    "    valor = str(df_hotmart.at[i, 'nome_curso'])\n",
    "    valor = valor.lower()\n",
    "    if 'enem' not in valor or 'vestibular' not in valor:\n",
    "        lista_deletar.append(i)"
   ]
  },
  {
   "cell_type": "code",
   "execution_count": 20,
   "metadata": {},
   "outputs": [],
   "source": [
    "# limpar linhas\n",
    "for i in lista_deletar:\n",
    "    df_hotmart.drop(i, inplace=True)"
   ]
  },
  {
   "cell_type": "code",
   "execution_count": 21,
   "metadata": {},
   "outputs": [],
   "source": [
    "# ajustar valor do preço para int\n",
    "for i in df_hotmart.index:\n",
    "    valor = str(df_hotmart.at[i, 'preco'])\n",
    "    valor = valor.replace('R$ ', '')\n",
    "    valor = valor.replace(',', '.')\n",
    "    df_hotmart.at[i, 'preco'] = valor"
   ]
  },
  {
   "cell_type": "code",
   "execution_count": 23,
   "metadata": {},
   "outputs": [],
   "source": [
    "# ajustar qtd de avaliações\n",
    "for i in df_hotmart.index:\n",
    "    valor = str(df_hotmart.at[i, 'qtd_avaliação'])\n",
    "    valor = valor.replace('(', '')\n",
    "    valor = valor.replace(')', '')\n",
    "    df_hotmart.at[i, 'qtd_avaliação'] = valor"
   ]
  },
  {
   "cell_type": "code",
   "execution_count": 29,
   "metadata": {},
   "outputs": [],
   "source": [
    "# reenomear para formato do sheets\n",
    "df_hotmart = df_hotmart[['nome_curso', 'autor', 'qtd_avaliação', 'avaliação', 'categoria', 'preco']]"
   ]
  },
  {
   "cell_type": "code",
   "execution_count": 31,
   "metadata": {},
   "outputs": [],
   "source": [
    "# exportar para o excel\n",
    "df_hotmart.to_excel('df_hotmart.xlsx', index=False)"
   ]
  },
  {
   "cell_type": "code",
   "execution_count": 32,
   "metadata": {},
   "outputs": [],
   "source": [
    "# ler df\n",
    "df_hotmart = pd.read_excel('df_hotmart.xlsx')"
   ]
  },
  {
   "cell_type": "code",
   "execution_count": 34,
   "metadata": {},
   "outputs": [],
   "source": [
    "df_hotmart_desc = df_hotmart.copy()"
   ]
  },
  {
   "cell_type": "code",
   "execution_count": 35,
   "metadata": {},
   "outputs": [],
   "source": [
    "df_hotmart = df_hotmart.drop(columns=['categoria'])"
   ]
  },
  {
   "cell_type": "code",
   "execution_count": 36,
   "metadata": {},
   "outputs": [],
   "source": [
    "df_hotmart = df_hotmart.drop_duplicates()"
   ]
  },
  {
   "cell_type": "code",
   "execution_count": 42,
   "metadata": {},
   "outputs": [],
   "source": [
    "df_hotmart['categoria'] = ''"
   ]
  },
  {
   "cell_type": "code",
   "execution_count": 44,
   "metadata": {},
   "outputs": [],
   "source": [
    "for i in df_hotmart.index:\n",
    "    nome = df_hotmart.at[i,'nome_curso']\n",
    "    df_aux = df_hotmart_desc.loc[df_hotmart_desc['nome_curso']==nome]\n",
    "    for aux in df_aux.index[:1]:\n",
    "        valor = df_aux.at[aux,'categoria']\n",
    "    df_hotmart.at[i,'categoria'] = valor\n"
   ]
  },
  {
   "cell_type": "code",
   "execution_count": 48,
   "metadata": {},
   "outputs": [
    {
     "data": {
      "text/html": [
       "<div>\n",
       "<style scoped>\n",
       "    .dataframe tbody tr th:only-of-type {\n",
       "        vertical-align: middle;\n",
       "    }\n",
       "\n",
       "    .dataframe tbody tr th {\n",
       "        vertical-align: top;\n",
       "    }\n",
       "\n",
       "    .dataframe thead th {\n",
       "        text-align: right;\n",
       "    }\n",
       "</style>\n",
       "<table border=\"1\" class=\"dataframe\">\n",
       "  <thead>\n",
       "    <tr style=\"text-align: right;\">\n",
       "      <th></th>\n",
       "      <th>nome_curso</th>\n",
       "      <th>autor</th>\n",
       "      <th>qtd_avaliação</th>\n",
       "      <th>avaliação</th>\n",
       "      <th>preço</th>\n",
       "      <th>categoria</th>\n",
       "    </tr>\n",
       "  </thead>\n",
       "  <tbody>\n",
       "    <tr>\n",
       "      <th>0</th>\n",
       "      <td>RESUMOS PARA VESTIBULARES &amp; ENEM</td>\n",
       "      <td>Mariana Brentano</td>\n",
       "      <td>16.0</td>\n",
       "      <td>4.5</td>\n",
       "      <td>R$127.90</td>\n",
       "      <td>enem</td>\n",
       "    </tr>\n",
       "    <tr>\n",
       "      <th>3</th>\n",
       "      <td>Ebook Histologia e Fisiologia - ENEM, vestibul...</td>\n",
       "      <td>Médica Leitora</td>\n",
       "      <td>11.0</td>\n",
       "      <td>4.8</td>\n",
       "      <td>R$50.00</td>\n",
       "      <td>enem</td>\n",
       "    </tr>\n",
       "    <tr>\n",
       "      <th>5</th>\n",
       "      <td>A Conquista da Física - Enem e Vestibulares</td>\n",
       "      <td>MARCOS SOARES RODRIGUES</td>\n",
       "      <td>7.0</td>\n",
       "      <td>5.0</td>\n",
       "      <td>R$197.00</td>\n",
       "      <td>enem</td>\n",
       "    </tr>\n",
       "    <tr>\n",
       "      <th>8</th>\n",
       "      <td>Flashcards Anki - ENEM e Vestibulares</td>\n",
       "      <td>Cláudia Rodrigues de Oliveira</td>\n",
       "      <td>5.0</td>\n",
       "      <td>5.0</td>\n",
       "      <td>R$50.00</td>\n",
       "      <td>enem</td>\n",
       "    </tr>\n",
       "    <tr>\n",
       "      <th>10</th>\n",
       "      <td>RESUMOS para VESTIBULARES e ENEM | PREMIUM @bi...</td>\n",
       "      <td>Amanda Brandt Beschorner</td>\n",
       "      <td>5.0</td>\n",
       "      <td>4.6</td>\n",
       "      <td>R$169.90</td>\n",
       "      <td>enem</td>\n",
       "    </tr>\n",
       "    <tr>\n",
       "      <th>...</th>\n",
       "      <td>...</td>\n",
       "      <td>...</td>\n",
       "      <td>...</td>\n",
       "      <td>...</td>\n",
       "      <td>...</td>\n",
       "      <td>...</td>\n",
       "    </tr>\n",
       "    <tr>\n",
       "      <th>110</th>\n",
       "      <td>Atalho Para Genialidade - ENEM e Vestibulares</td>\n",
       "      <td>julia rodrigues</td>\n",
       "      <td>NaN</td>\n",
       "      <td>NaN</td>\n",
       "      <td>R$147.00</td>\n",
       "      <td>pré-vestibular</td>\n",
       "    </tr>\n",
       "    <tr>\n",
       "      <th>111</th>\n",
       "      <td>RESUMOS para VESTIBULARES e ENEM | STANDARD H ...</td>\n",
       "      <td>Amanda Brandt Beschorner</td>\n",
       "      <td>NaN</td>\n",
       "      <td>NaN</td>\n",
       "      <td>R$99.90</td>\n",
       "      <td>pré-vestibular</td>\n",
       "    </tr>\n",
       "    <tr>\n",
       "      <th>119</th>\n",
       "      <td>Curso Preparatório Enem/Vestibular - Matemática</td>\n",
       "      <td>Vinicius Alves</td>\n",
       "      <td>NaN</td>\n",
       "      <td>NaN</td>\n",
       "      <td>R$29.90</td>\n",
       "      <td>vestibular</td>\n",
       "    </tr>\n",
       "    <tr>\n",
       "      <th>122</th>\n",
       "      <td>Aulas de redação nota 1000 para ENEM e vestibular</td>\n",
       "      <td>Bárbara Monteiro</td>\n",
       "      <td>NaN</td>\n",
       "      <td>NaN</td>\n",
       "      <td>R$200.00</td>\n",
       "      <td>vestibular</td>\n",
       "    </tr>\n",
       "    <tr>\n",
       "      <th>154</th>\n",
       "      <td>CURSO DE FÍSICA - MECÂNICA - PARA VESTIBULARES...</td>\n",
       "      <td>CURSOS DE FÍSICA E MATEMÁTICA BÁSICA - TURMA D...</td>\n",
       "      <td>NaN</td>\n",
       "      <td>NaN</td>\n",
       "      <td>R$89.00</td>\n",
       "      <td>vestibular</td>\n",
       "    </tr>\n",
       "  </tbody>\n",
       "</table>\n",
       "<p>62 rows × 6 columns</p>\n",
       "</div>"
      ],
      "text/plain": [
       "                                            nome_curso  \\\n",
       "0                     RESUMOS PARA VESTIBULARES & ENEM   \n",
       "3    Ebook Histologia e Fisiologia - ENEM, vestibul...   \n",
       "5          A Conquista da Física - Enem e Vestibulares   \n",
       "8                Flashcards Anki - ENEM e Vestibulares   \n",
       "10   RESUMOS para VESTIBULARES e ENEM | PREMIUM @bi...   \n",
       "..                                                 ...   \n",
       "110      Atalho Para Genialidade - ENEM e Vestibulares   \n",
       "111  RESUMOS para VESTIBULARES e ENEM | STANDARD H ...   \n",
       "119    Curso Preparatório Enem/Vestibular - Matemática   \n",
       "122  Aulas de redação nota 1000 para ENEM e vestibular   \n",
       "154  CURSO DE FÍSICA - MECÂNICA - PARA VESTIBULARES...   \n",
       "\n",
       "                                                 autor  qtd_avaliação  \\\n",
       "0                                     Mariana Brentano           16.0   \n",
       "3                                       Médica Leitora           11.0   \n",
       "5                              MARCOS SOARES RODRIGUES            7.0   \n",
       "8                        Cláudia Rodrigues de Oliveira            5.0   \n",
       "10                            Amanda Brandt Beschorner            5.0   \n",
       "..                                                 ...            ...   \n",
       "110                                    julia rodrigues            NaN   \n",
       "111                           Amanda Brandt Beschorner            NaN   \n",
       "119                                     Vinicius Alves            NaN   \n",
       "122                                   Bárbara Monteiro            NaN   \n",
       "154  CURSOS DE FÍSICA E MATEMÁTICA BÁSICA - TURMA D...            NaN   \n",
       "\n",
       "     avaliação     preço       categoria  \n",
       "0          4.5  R$127.90            enem  \n",
       "3          4.8   R$50.00            enem  \n",
       "5          5.0  R$197.00            enem  \n",
       "8          5.0   R$50.00            enem  \n",
       "10         4.6  R$169.90            enem  \n",
       "..         ...       ...             ...  \n",
       "110        NaN  R$147.00  pré-vestibular  \n",
       "111        NaN   R$99.90  pré-vestibular  \n",
       "119        NaN   R$29.90      vestibular  \n",
       "122        NaN  R$200.00      vestibular  \n",
       "154        NaN   R$89.00      vestibular  \n",
       "\n",
       "[62 rows x 6 columns]"
      ]
     },
     "execution_count": 48,
     "metadata": {},
     "output_type": "execute_result"
    }
   ],
   "source": [
    "df_hotmart"
   ]
  },
  {
   "cell_type": "code",
   "execution_count": 49,
   "metadata": {},
   "outputs": [],
   "source": [
    "# reenomear para formato do sheets\n",
    "df_hotmart = df_hotmart[['nome_curso', 'autor', 'qtd_avaliação', 'avaliação', 'categoria', 'preço']]"
   ]
  },
  {
   "cell_type": "code",
   "execution_count": 50,
   "metadata": {},
   "outputs": [],
   "source": [
    "# exportar para o excel\n",
    "df_hotmart.to_excel('df_hotmart.xlsx', index=False)"
   ]
  }
 ],
 "metadata": {
  "kernelspec": {
   "display_name": "Python 3",
   "language": "python",
   "name": "python3"
  },
  "language_info": {
   "codemirror_mode": {
    "name": "ipython",
    "version": 3
   },
   "file_extension": ".py",
   "mimetype": "text/x-python",
   "name": "python",
   "nbconvert_exporter": "python",
   "pygments_lexer": "ipython3",
   "version": "3.7.9 (tags/v3.7.9:13c94747c7, Aug 17 2020, 18:01:55) [MSC v.1900 32 bit (Intel)]"
  },
  "orig_nbformat": 4,
  "vscode": {
   "interpreter": {
    "hash": "eb27b809f4a27d44d0264520c10e76410bf0aa7ea5cdd1181a4eeef1126bad30"
   }
  }
 },
 "nbformat": 4,
 "nbformat_minor": 2
}
